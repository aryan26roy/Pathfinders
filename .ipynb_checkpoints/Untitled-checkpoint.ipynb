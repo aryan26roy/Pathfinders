{
 "cells": [
  {
   "cell_type": "code",
   "execution_count": 100,
   "metadata": {},
   "outputs": [],
   "source": [
    "import awkward as ak\n",
    "import numpy as np"
   ]
  },
  {
   "cell_type": "code",
   "execution_count": 101,
   "metadata": {},
   "outputs": [],
   "source": [
    "import build.dijkstra\n",
    "import awkward as ak\n",
    "arr = [[4,4,0,4,4,4],\n",
    "    [4,4,0,1,4,4],\n",
    "    [4,4,0,4,4,4],\n",
    "    [4,4,4,4,2,4]]\n",
    "a = build.dijkstra.interface(arr)\n"
   ]
  },
  {
   "cell_type": "code",
   "execution_count": 102,
   "metadata": {},
   "outputs": [
    {
     "name": "stdout",
     "output_type": "stream",
     "text": [
      "{\n",
      "    \"class\": \"RecordArray\",\n",
      "    \"contents\": {\n",
      "        \"x\": {\n",
      "            \"class\": \"NumpyArray\",\n",
      "            \"itemsize\": 8,\n",
      "            \"format\": \"l\",\n",
      "            \"primitive\": \"int64\",\n",
      "            \"form_key\": \"node1\"\n",
      "        },\n",
      "        \"y\": {\n",
      "            \"class\": \"NumpyArray\",\n",
      "            \"itemsize\": 8,\n",
      "            \"format\": \"l\",\n",
      "            \"primitive\": \"int64\",\n",
      "            \"form_key\": \"node2\"\n",
      "        }\n",
      "    },\n",
      "    \"form_key\": \"node0\"\n",
      "}\n"
     ]
    },
    {
     "data": {
      "text/plain": [
       "array([0], dtype=int32)"
      ]
     },
     "execution_count": 102,
     "metadata": {},
     "output_type": "execute_result"
    }
   ],
   "source": [
    "form1 = list(a.keys())[-1]\n",
    "print(form)\n",
    "a.pop(form)\n"
   ]
  },
  {
   "cell_type": "code",
   "execution_count": 103,
   "metadata": {},
   "outputs": [
    {
     "name": "stdout",
     "output_type": "stream",
     "text": [
      "4\n"
     ]
    }
   ],
   "source": [
    "length1 = a['Length'][0]\n",
    "a.pop('Length')\n",
    "print(length)"
   ]
  },
  {
   "cell_type": "code",
   "execution_count": 104,
   "metadata": {},
   "outputs": [
    {
     "name": "stdout",
     "output_type": "stream",
     "text": [
      "{'part0-node1-data': array([3, 2, 1, 1], dtype=int32), 'part0-node2-data': array([4, 4, 4, 3], dtype=int32)}\n"
     ]
    }
   ],
   "source": [
    "print(a)"
   ]
  },
  {
   "cell_type": "code",
   "execution_count": 105,
   "metadata": {},
   "outputs": [
    {
     "data": {
      "text/plain": [
       "{'part0-node1-data': array([3, 2, 1, 1]),\n",
       " 'part0-node2-data': array([4, 4, 4, 3])}"
      ]
     },
     "execution_count": 105,
     "metadata": {},
     "output_type": "execute_result"
    }
   ],
   "source": [
    "for key in a:\n",
    "    a[key] = a[key].astype('int64')\n",
    "    #print(a[key].astype('int64'))\n",
    "a"
   ]
  },
  {
   "cell_type": "code",
   "execution_count": 106,
   "metadata": {},
   "outputs": [],
   "source": [
    "aa = ak.from_buffers(form1,length1,a)"
   ]
  },
  {
   "cell_type": "code",
   "execution_count": 107,
   "metadata": {},
   "outputs": [
    {
     "name": "stdout",
     "output_type": "stream",
     "text": [
      "[{x: 3, y: 4}, {x: 2, y: 4}, {x: 1, y: 4}, {x: 1, y: 3}]\n"
     ]
    }
   ],
   "source": [
    "print(aa)"
   ]
  }
 ],
 "metadata": {
  "kernelspec": {
   "display_name": "Python 3",
   "language": "python",
   "name": "python3"
  },
  "language_info": {
   "codemirror_mode": {
    "name": "ipython",
    "version": 3
   },
   "file_extension": ".py",
   "mimetype": "text/x-python",
   "name": "python",
   "nbconvert_exporter": "python",
   "pygments_lexer": "ipython3",
   "version": "3.8.5"
  }
 },
 "nbformat": 4,
 "nbformat_minor": 4
}
