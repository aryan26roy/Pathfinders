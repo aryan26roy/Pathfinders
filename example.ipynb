{
 "cells": [
  {
   "cell_type": "code",
   "execution_count": 1,
   "metadata": {
    "scrolled": true
   },
   "outputs": [],
   "source": [
    "import pathfinders\n",
    "import awkward as ak"
   ]
  },
  {
   "cell_type": "code",
   "execution_count": 2,
   "metadata": {},
   "outputs": [],
   "source": [
    "arr = [[4,4,0,4,4,4],\n",
    "\t[4,4,0,1,4,4],\n",
    "\t[4,4,0,4,4,4],\n",
    "\t[4,4,4,4,2,4]]"
   ]
  },
  {
   "cell_type": "code",
   "execution_count": 3,
   "metadata": {},
   "outputs": [],
   "source": [
    "gg = pathfinders.pathfinder()"
   ]
  },
  {
   "cell_type": "code",
   "execution_count": 4,
   "metadata": {},
   "outputs": [],
   "source": [
    "obs = [[1,1],[2,2],[1,2]]\n",
    "dims = [4,4]\n",
    "start = [0,1]\n",
    "stop = [3,2]"
   ]
  },
  {
   "cell_type": "code",
   "execution_count": 5,
   "metadata": {},
   "outputs": [
    {
     "name": "stdout",
     "output_type": "stream",
     "text": [
      "[4, 2, 4, 4]\n",
      "[4, 0, 0, 4]\n",
      "[4, 4, 0, 4]\n",
      "[4, 4, 1, 4]\n"
     ]
    }
   ],
   "source": [
    "gg.map(obs,dims,start,stop)"
   ]
  },
  {
   "cell_type": "code",
   "execution_count": 6,
   "metadata": {},
   "outputs": [],
   "source": [
    "gg.mapras(arr)"
   ]
  },
  {
   "cell_type": "code",
   "execution_count": 7,
   "metadata": {},
   "outputs": [
    {
     "name": "stdout",
     "output_type": "stream",
     "text": [
      "<pathfinders.pathfinder object at 0x7fbb96028280>\n"
     ]
    }
   ],
   "source": [
    "print(gg)"
   ]
  },
  {
   "cell_type": "code",
   "execution_count": 8,
   "metadata": {},
   "outputs": [
    {
     "name": "stdout",
     "output_type": "stream",
     "text": [
      "[[4, 4, 0, 4, 4, 4], [4, 4, 0, 4, 4, 4], [4, 4, 0, 4, 4, 4], [4, 4, 4, 4, 4, 4]]\n"
     ]
    }
   ],
   "source": [
    "gg.delete()"
   ]
  },
  {
   "cell_type": "code",
   "execution_count": 9,
   "metadata": {},
   "outputs": [
    {
     "name": "stdout",
     "output_type": "stream",
     "text": [
      "[2, 4, 0, 4, 4, 1]\n",
      "[4, 4, 0, 4, 4, 4]\n",
      "[4, 4, 0, 4, 4, 4]\n",
      "[4, 4, 4, 4, 4, 4]\n"
     ]
    }
   ],
   "source": [
    "gg.mark([0,0],[0,5,4])"
   ]
  },
  {
   "cell_type": "code",
   "execution_count": 10,
   "metadata": {},
   "outputs": [
    {
     "name": "stdout",
     "output_type": "stream",
     "text": [
      "[{x: 0, y: 0}, {x: 1, y: 0}, {x: 2, y: 0}, ... y: 5}, {x: 1, y: 5}, {x: 0, y: 5}]\n"
     ]
    }
   ],
   "source": [
    "aa =gg.findpath(\"BFS\")\n",
    "print(aa)"
   ]
  },
  {
   "cell_type": "code",
   "execution_count": 11,
   "metadata": {},
   "outputs": [
    {
     "name": "stdout",
     "output_type": "stream",
     "text": [
      "[{x: 0, y: 0}, {x: 1, y: 0}, {x: 2, y: 0}, ... y: 4}, {x: 1, y: 5}, {x: 0, y: 5}]\n"
     ]
    }
   ],
   "source": [
    "ff = gg.findpath(\"DFS\")\n",
    "print(ff)"
   ]
  },
  {
   "cell_type": "code",
   "execution_count": 12,
   "metadata": {},
   "outputs": [
    {
     "name": "stdout",
     "output_type": "stream",
     "text": [
      "[{x: 0, y: 0}, {x: 1, y: 0}, {x: 2, y: 0}, ... y: 5}, {x: 1, y: 5}, {x: 0, y: 5}]\n"
     ]
    }
   ],
   "source": [
    "tt = gg.findpath(\"DJK\")\n",
    "print(tt)"
   ]
  },
  {
   "cell_type": "code",
   "execution_count": null,
   "metadata": {},
   "outputs": [],
   "source": []
  }
 ],
 "metadata": {
  "kernelspec": {
   "display_name": "Python 3",
   "language": "python",
   "name": "python3"
  },
  "language_info": {
   "codemirror_mode": {
    "name": "ipython",
    "version": 3
   },
   "file_extension": ".py",
   "mimetype": "text/x-python",
   "name": "python",
   "nbconvert_exporter": "python",
   "pygments_lexer": "ipython3",
   "version": "3.8.5"
  }
 },
 "nbformat": 4,
 "nbformat_minor": 4
}
